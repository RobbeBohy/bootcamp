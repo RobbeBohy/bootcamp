{
 "cells": [
  {
   "attachments": {},
   "cell_type": "markdown",
   "metadata": {},
   "source": [
    "### UHF vs RHF\n",
    "UHF has less restrictions than RHF. The main difference is that the functions are no longer restricted to only doubly occupied functions. Now there is a possibility to have a different number of $\\alpha$ and $\\beta$ spins. This implies a reduction of the symmetry of the wave-function. The wave-function will no longer be an eigenfunction of the $S_{z}$ operator. The reason to use UHF is that it will result in a lower energy."
   ]
  },
  {
   "attachments": {},
   "cell_type": "markdown",
   "metadata": {},
   "source": [
    "## Implementation\n",
    "Major parts of the code can just be copied from the RHF implementation. The general framework of the problem is the same, there are just some changes in the restrictions."
   ]
  },
  {
   "cell_type": "code",
   "execution_count": 2,
   "metadata": {},
   "outputs": [],
   "source": [
    "# ==> Import Psi4 & NumPy <==\n",
    "from pyscf import gto, scf\n",
    "import numpy as np\n",
    "import scipy\n",
    "\n",
    "mol = gto.M(atom = 'O 0.0 0.0 0.0; H 1.0 0.0 0.0; H 0.0 1.0 0.0', basis = 'ccpvdz')\n",
    "MAXITER = 40\n",
    "E_conv = 1.0e-6"
   ]
  },
  {
   "cell_type": "code",
   "execution_count": 3,
   "metadata": {},
   "outputs": [],
   "source": [
    "S = mol.intor('int1e_ovlp')\n",
    "T = mol.intor('int1e_kin')\n",
    "V = mol.intor('int1e_nuc')\n",
    "H_core = T + V\n",
    "eri = mol.intor('int2e')"
   ]
  },
  {
   "cell_type": "code",
   "execution_count": 4,
   "metadata": {},
   "outputs": [],
   "source": [
    "enuc = mol.get_enuc()\n",
    "ndocc = mol.nelec[0]"
   ]
  },
  {
   "attachments": {},
   "cell_type": "markdown",
   "metadata": {},
   "source": [
    "At this point it is necessary to implement some chenges. We no longer work with the number of doubly occupied orbtials because in UHF it is possible to have single occupied orbitals. There is a different Fock-operator for the alpha spins ($F_{\\alpha}$) and the beta spins ($F_{\\beta}$)."
   ]
  },
  {
   "cell_type": "code",
   "execution_count": 8,
   "metadata": {},
   "outputs": [],
   "source": [
    "eps, C = scipy.linalg.eigh(H_core, S)\n",
    "n_alpha = mol.nelec[0]\n",
    "n_beta = mol.nelec[1]\n",
    "\n",
    "Calpha = C[:, :n_alpha]\n",
    "Cbeta = C[:, :n_beta]\n",
    "\n",
    "D_alpha = np.einsum('pi,qi->pq', Calpha, Calpha, optimize=True)\n",
    "D_beta = np.einsum('pi,qi->pq', Cbeta, Cbeta, optimize=True)\n",
    "\n"
   ]
  },
  {
   "cell_type": "code",
   "execution_count": null,
   "metadata": {},
   "outputs": [],
   "source": []
  }
 ],
 "metadata": {
  "kernelspec": {
   "display_name": "Python 3",
   "language": "python",
   "name": "python3"
  },
  "language_info": {
   "codemirror_mode": {
    "name": "ipython",
    "version": 3
   },
   "file_extension": ".py",
   "mimetype": "text/x-python",
   "name": "python",
   "nbconvert_exporter": "python",
   "pygments_lexer": "ipython3",
   "version": "3.8.10"
  },
  "orig_nbformat": 4,
  "vscode": {
   "interpreter": {
    "hash": "31f2aee4e71d21fbe5cf8b01ff0e069b9275f58929596ceb00d14d90e3e16cd6"
   }
  }
 },
 "nbformat": 4,
 "nbformat_minor": 2
}
