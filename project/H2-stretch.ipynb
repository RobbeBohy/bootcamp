{
 "cells": [
  {
   "attachments": {},
   "cell_type": "markdown",
   "metadata": {},
   "source": [
    "# H2-stretch\n",
    "In this notebook, the previous coded implementation of RHF and UHF will be visualised using $H_{2}$ as test-molecule."
   ]
  },
  {
   "cell_type": "code",
   "execution_count": 34,
   "metadata": {},
   "outputs": [],
   "source": [
    "import matplotlib.pyplot as plt\n",
    "import numpy as np\n",
    "from pyscf import gto, scf\n",
    "import scipy"
   ]
  },
  {
   "cell_type": "code",
   "execution_count": 135,
   "metadata": {},
   "outputs": [],
   "source": [
    "MAXITER = 100\n",
    "E_conv = 1.0e-6"
   ]
  },
  {
   "cell_type": "code",
   "execution_count": 136,
   "metadata": {},
   "outputs": [],
   "source": [
    "def RHF(mol):\n",
    "    S = mol.intor('int1e_ovlp')\n",
    "    T = mol.intor('int1e_kin')\n",
    "    V = mol.intor('int1e_nuc')\n",
    "    H_core = T + V\n",
    "    eri = mol.intor('int2e')\n",
    "    # ==> SCF Iterations <==\n",
    "    # Pre-iteration energy declarations\n",
    "    SCF_E_RHF = 0.0\n",
    "    E_old = 0.0\n",
    "\n",
    "    ndocc = mol.nelec[0]\n",
    "    # Initial guess starts without C, so just the hamiltonian\n",
    "    eps, C = scipy.linalg.eigh(H_core, S)\n",
    "    C_occ = C[:, :ndocc]\n",
    "    D = np.einsum('pi,qi->pq', C_occ, C_occ, optimize=True)\n",
    "    # Begin Iterations\n",
    "    for scf_iter in range(1, MAXITER + 1):\n",
    "        # Build Fock matrix: F = H + 2J - K\n",
    "        J = np.einsum('pqrs,rs->pq', eri, D, optimize=True)\n",
    "        K = np.einsum('prqs,rs->pq', eri, D, optimize=True)\n",
    "        F = 2*J - K + H_core   \n",
    "\n",
    "        # Compute RHF energy: BO nuclear energy and RHF electronc energy\n",
    "        enuc = mol.get_enuc()\n",
    "        E_RHF_el_matrix = (F+ H_core) * D\n",
    "        E_RHF_el = np.sum(E_RHF_el_matrix)       \n",
    "        SCF_E_RHF = enuc + E_RHF_el\n",
    "\n",
    "        # SCF Converged?\n",
    "        if (abs(SCF_E_RHF - E_old) < E_conv):\n",
    "            break\n",
    "        E_old = SCF_E_RHF\n",
    "        \n",
    "        # Compute new orbital guess\n",
    "        eps, C = scipy.linalg.eigh(F,S)\n",
    "        C_occ = C[:, :ndocc]\n",
    "        D = np.einsum('pi,qi->pq', C_occ, C_occ, optimize=True)\n",
    "        \n",
    "        # MAXITER exceeded?\n",
    "        if (scf_iter == MAXITER):\n",
    "            raise Exception(\"Maximum number of SCF iterations exceeded.\")\n",
    "    return SCF_E_RHF\n",
    "\n"
   ]
  },
  {
   "cell_type": "code",
   "execution_count": 137,
   "metadata": {},
   "outputs": [],
   "source": [
    "def UHF(mol):\n",
    "    S = mol.intor('int1e_ovlp')\n",
    "    T = mol.intor('int1e_kin')\n",
    "    V = mol.intor('int1e_nuc')\n",
    "    H_core = T + V\n",
    "    eri = mol.intor('int2e')\n",
    "    # ==> SCF Iterations <==\n",
    "    # Pre-iteration energy declarations\n",
    "    SCF_E_UHF = 0.0\n",
    "    E_old = 0.0\n",
    "\n",
    "    eps, C = scipy.linalg.eigh(H_core, S)\n",
    "    n_alpha = mol.nelec[0]\n",
    "    n_beta = mol.nelec[1]\n",
    "\n",
    "    Calpha = C[:, :n_alpha]\n",
    "    Cbeta = C.conj().T[:, :n_beta]\n",
    "\n",
    "\n",
    "    D_alpha = np.einsum('pi,qi->pq', Calpha, Calpha, optimize=True)\n",
    "    D_beta = np.einsum('pi,qi->pq', Cbeta, Cbeta, optimize=True)\n",
    "    D = np.einsum('pi,qi->pq', C[:,:max(n_alpha, n_beta)], C[:,:max(n_alpha, n_beta)], optimize=True)\n",
    "\n",
    "    # Begin Iterations\n",
    "    for scf_iter in range(1, MAXITER + 1):\n",
    "        # Build Fock matrices: F_alpha = H + (J - K)_alpha + J_beta and F_beta = H + (J - K)_beta + J_alpha\n",
    "        # The same procedure will be used but there will be a separation between the F_alpha and F_beta\n",
    "        J_alpha = np.einsum('pqrs,rs->pq', eri, D_alpha, optimize=True)\n",
    "        K_alpha = np.einsum('prqs,rs->pq', eri, D_alpha, optimize=True)\n",
    "        J_beta = np.einsum('pqrs,rs->pq', eri, D_beta, optimize=True)\n",
    "        K_beta = np.einsum('prqs,rs->pq', eri, D_beta, optimize=True)\n",
    "\n",
    "\n",
    "        F_alpha = (J_alpha - K_alpha  + J_beta) + H_core\n",
    "        F_beta = (J_alpha + J_beta - K_beta) + H_core\n",
    "        F = H_core + (J_alpha - K_alpha) + (J_beta - K_beta)\n",
    "        # Compute RHF energy: BO nuclear energy and RHF electronc energy\n",
    "        enuc = mol.get_enuc() # The BO is not different from RHF\n",
    "        #E_UHF_el_matrix_alpha = ( H_core + F_alpha) * D_alpha\n",
    "        #E_UHF_el_matrix_beta = (F_beta + H_core) * D_beta\n",
    "        E_UHF_matrix = 0.5 * (D_alpha * (F_alpha + H_core) +  D_beta * (F_beta + H_core))\n",
    "        #E_UHF_el = np.sum(E_UHF_el_matrix_alpha) + np.sum(E_UHF_el_matrix_beta)\n",
    "        E_UHF_el = np.sum(E_UHF_matrix)\n",
    "        SCF_E_UHF = enuc + E_UHF_el\n",
    "\n",
    "        # SCF Converged?\n",
    "        if (abs(SCF_E_UHF - E_old) < E_conv):\n",
    "            break\n",
    "        E_old = SCF_E_UHF\n",
    "        \n",
    "        # Compute new orbital guess\n",
    "        eps, C1 = scipy.linalg.eigh(F_alpha,S)\n",
    "        eps1 , C2 = scipy.linalg.eigh(F_beta,S)\n",
    "\n",
    "        Calpha = C1[:, :n_alpha]\n",
    "        Cbeta = C2[:, : n_beta]\n",
    "\n",
    "        #D = np.einsum('pi,qi->pq', C[:,:max(n_alpha, n_beta)], C[:,:max(n_alpha, n_beta)], optimize=True)\n",
    "        D_alpha = np.einsum('pi,qi->pq', Calpha, Calpha, optimize=True)\n",
    "        D_beta = np.einsum('pi,qi->pq', Cbeta, Cbeta, optimize=True)\n",
    "        #D = np.einsum('pi,qi->pq', C[:,:(n_alpha + n_beta)], C[:,:(n_alpha + n_beta)], optimize=True)\n",
    "\n",
    "        # MAXITER exceeded?\n",
    "        if (scf_iter == MAXITER):\n",
    "            print(SCF_E_UHF)\n",
    "            raise Exception(\"Maximum number of SCF iterations exceeded.\")\n",
    "\n",
    "    return SCF_E_UHF"
   ]
  },
  {
   "cell_type": "code",
   "execution_count": 142,
   "metadata": {},
   "outputs": [],
   "source": [
    "distance_list = []\n",
    "energy_RHF_list = []\n",
    "energy_UHF_list = []\n",
    "\n",
    "for distance in np.arange(0.2,3, 0.01):\n",
    "    #distance *= 0.1\n",
    "    mol = gto.M(atom = f'H 0.0 0.0 0.0; H {distance:.2f} 0.0 0.0')\n",
    "    energy_UHF_list.append(UHF(mol))\n",
    "    energy_RHF_list.append(RHF(mol))\n",
    "    distance_list.append(distance)\n"
   ]
  },
  {
   "cell_type": "code",
   "execution_count": 144,
   "metadata": {},
   "outputs": [
    {
     "data": {
      "image/png": "[encoded data removed]",
      "text/plain": [
       "<Figure size 432x288 with 1 Axes>"
      ]
     },
     "metadata": {
      "needs_background": "light"
     },
     "output_type": "display_data"
    }
   ],
   "source": [
    "plt.plot(distance_list, energy_UHF_list, 'r', label = 'UHF')\n",
    "plt.plot(distance_list, energy_RHF_list, 'b', label = 'RHF')\n",
    "\n",
    "plt.ylim(top=-0.5)\n",
    "plt.legend()\n",
    "plt.show()"
   ]
  },
  {
   "cell_type": "code",
   "execution_count": null,
   "metadata": {},
   "outputs": [],
   "source": []
  }
 ],
 "metadata": {
  "kernelspec": {
   "display_name": "Python 3",
   "language": "python",
   "name": "python3"
  },
  "language_info": {
   "codemirror_mode": {
    "name": "ipython",
    "version": 3
   },
   "file_extension": ".py",
   "mimetype": "text/x-python",
   "name": "python",
   "nbconvert_exporter": "python",
   "pygments_lexer": "ipython3",
   "version": "3.8.10"
  },
  "orig_nbformat": 4,
  "vscode": {
   "interpreter": {
    "hash": "31f2aee4e71d21fbe5cf8b01ff0e069b9275f58929596ceb00d14d90e3e16cd6"
   }
  }
 },
 "nbformat": 4,
 "nbformat_minor": 2
}
