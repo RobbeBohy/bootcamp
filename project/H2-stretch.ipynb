{
 "cells": [
  {
   "attachments": {},
   "cell_type": "markdown",
   "metadata": {},
   "source": [
    "# H2-stretch\n",
    "In this notebook, the previous coded implementation of RHF and UHF will be visualised using $H_{2}$ as test-molecule."
   ]
  },
  {
   "cell_type": "code",
   "execution_count": 7,
   "metadata": {},
   "outputs": [],
   "source": [
    "import matplotlib as plt\n",
    "import numpy as np\n",
    "from pyscf import gto, scf\n",
    "import scipy"
   ]
  },
  {
   "cell_type": "code",
   "execution_count": 22,
   "metadata": {},
   "outputs": [],
   "source": [
    "MAXITER = 40\n",
    "E_conv = 1.0e-6"
   ]
  },
  {
   "cell_type": "code",
   "execution_count": 23,
   "metadata": {},
   "outputs": [],
   "source": [
    "distance = np.linspace(1.0,8.0, 1000)\n",
    "mol = gto.M(atom = 'H 0.0 0.0 0.0; H 1.0 0.0 0.0', basis = 'ccpvdz')\n",
    "S = mol.intor('int1e_ovlp')\n",
    "T = mol.intor('int1e_kin')\n",
    "V = mol.intor('int1e_nuc')\n",
    "H_core = T + V\n",
    "eri = mol.intor('int2e')"
   ]
  },
  {
   "cell_type": "code",
   "execution_count": null,
   "metadata": {},
   "outputs": [],
   "source": []
  },
  {
   "cell_type": "code",
   "execution_count": 17,
   "metadata": {},
   "outputs": [
    {
     "name": "stdout",
     "output_type": "stream",
     "text": [
      "==> Starting SCF Iterations <==\n",
      "\n",
      "\n",
      "SCF converged.\n",
      "Final UHF Energy: -1.10015376 [Eh]\n"
     ]
    }
   ],
   "source": [
    "# ==> SCF Iterations <==\n",
    "# Pre-iteration energy declarations\n",
    "SCF_E_UHF = 0.0\n",
    "E_old = 0.0\n",
    "\n",
    "print('==> Starting SCF Iterations <==\\n')\n",
    "eps, C = scipy.linalg.eigh(H_core, S)\n",
    "n_alpha = mol.nelec[0]\n",
    "n_beta = mol.nelec[1]\n",
    "\n",
    "Calpha = C[:, :n_alpha]\n",
    "Cbeta = C[:, :n_beta]\n",
    "\n",
    "\n",
    "D_alpha = np.einsum('pi,qi->pq', Calpha, Calpha, optimize=True)\n",
    "D_beta = np.einsum('pi,qi->pq', Cbeta, Cbeta, optimize=True)\n",
    "D = np.einsum('pi,qi->pq', C[:,:max(n_alpha, n_beta)], C[:,:max(n_alpha, n_beta)], optimize=True)\n",
    "\n",
    "# Begin Iterations\n",
    "for scf_iter in range(1, MAXITER + 1):\n",
    "    # Build Fock matrices: F_alpha = H + (J - K)_alpha + J_beta and F_beta = H + (J - K)_beta + J_alpha\n",
    "    # The same procedure will be used but there will be a separation between the F_alpha and F_beta\n",
    "    J_alpha = np.einsum('pqrs,rs->pq', eri, D_alpha, optimize=True)\n",
    "    K_alpha = np.einsum('prqs,rs->pq', eri, D_alpha, optimize=True)\n",
    "    J_beta = np.einsum('pqrs,rs->pq', eri, D_beta, optimize=True)\n",
    "    K_beta = np.einsum('prqs,rs->pq', eri, D_beta, optimize=True)\n",
    "\n",
    "\n",
    "    F_alpha = (J_alpha - K_alpha  + J_beta) + H_core\n",
    "    F_beta = (J_alpha + J_beta - K_beta) + H_core\n",
    "    F = H_core + (J_alpha - K_alpha) + (J_beta - K_beta)\n",
    "    # Compute RHF energy: BO nuclear energy and RHF electronc energy\n",
    "    enuc = mol.get_enuc() # The BO is not different from RHF\n",
    "    #E_UHF_el_matrix_alpha = ( H_core + F_alpha) * D_alpha\n",
    "    #E_UHF_el_matrix_beta = (F_beta + H_core) * D_beta\n",
    "    E_UHF_matrix = 0.5 * (D_alpha * (F_alpha + H_core) +  D_beta * (F_beta + H_core))\n",
    "    #E_UHF_el = np.sum(E_UHF_el_matrix_alpha) + np.sum(E_UHF_el_matrix_beta)\n",
    "    E_UHF_el = np.sum(E_UHF_matrix)\n",
    "    SCF_E_UHF = enuc + E_UHF_el\n",
    "\n",
    "    # SCF Converged?\n",
    "    if (abs(SCF_E_UHF - E_old) < E_conv):\n",
    "        break\n",
    "    E_old = SCF_E_UHF\n",
    "    \n",
    "    # Compute new orbital guess\n",
    "    eps, C1 = scipy.linalg.eigh(F_alpha,S)\n",
    "    eps1 , C2 = scipy.linalg.eigh(F_beta,S)\n",
    "\n",
    "    Calpha = C1[:, :n_alpha]\n",
    "    Cbeta = C2[:, : n_beta]\n",
    "\n",
    "    #D = np.einsum('pi,qi->pq', C[:,:max(n_alpha, n_beta)], C[:,:max(n_alpha, n_beta)], optimize=True)\n",
    "    D_alpha = np.einsum('pi,qi->pq', Calpha, Calpha, optimize=True)\n",
    "    D_beta = np.einsum('pi,qi->pq', Cbeta, Cbeta, optimize=True)\n",
    "    #D = np.einsum('pi,qi->pq', C[:,:(n_alpha + n_beta)], C[:,:(n_alpha + n_beta)], optimize=True)\n",
    "\n",
    "    # MAXITER exceeded?\n",
    "    if (scf_iter == MAXITER):\n",
    "        print(SCF_E_UHF)\n",
    "        raise Exception(\"Maximum number of SCF iterations exceeded.\")\n",
    "\n",
    "\n",
    "# Post iterations\n",
    "print('\\nSCF converged.')\n",
    "print('Final UHF Energy: %.8f [Eh]' % (SCF_E_UHF))"
   ]
  },
  {
   "cell_type": "code",
   "execution_count": null,
   "metadata": {},
   "outputs": [],
   "source": [
    "energy_UHF = SCF_E_UHF\n",
    "energy_RHF = SCF_E_RHF\n",
    "plt.plot()"
   ]
  }
 ],
 "metadata": {
  "kernelspec": {
   "display_name": "Python 3",
   "language": "python",
   "name": "python3"
  },
  "language_info": {
   "codemirror_mode": {
    "name": "ipython",
    "version": 3
   },
   "file_extension": ".py",
   "mimetype": "text/x-python",
   "name": "python",
   "nbconvert_exporter": "python",
   "pygments_lexer": "ipython3",
   "version": "3.8.10"
  },
  "orig_nbformat": 4,
  "vscode": {
   "interpreter": {
    "hash": "31f2aee4e71d21fbe5cf8b01ff0e069b9275f58929596ceb00d14d90e3e16cd6"
   }
  }
 },
 "nbformat": 4,
 "nbformat_minor": 2
}
